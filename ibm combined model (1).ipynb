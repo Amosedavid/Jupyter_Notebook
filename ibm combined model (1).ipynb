{
 "cells": [
  {
   "cell_type": "code",
   "execution_count": 33,
   "id": "3f1f27f6",
   "metadata": {
    "scrolled": true
   },
   "outputs": [
    {
     "name": "stderr",
     "output_type": "stream",
     "text": [
      "[nltk_data] Error loading stopwords: <urlopen error [WinError 10054]\n",
      "[nltk_data]     An existing connection was forcibly closed by the\n",
      "[nltk_data]     remote host>\n"
     ]
    },
    {
     "name": "stdout",
     "output_type": "stream",
     "text": [
      "Best Hyperparameters for Random Forest: {'max_depth': None, 'min_samples_split': 5, 'n_estimators': 200}\n",
      "Best Hyperparameters for Logistic Regression: {'C': 1}\n",
      "Accuracy for Random Forest: 0.73\n",
      "Classification Report for Random Forest:\n",
      "               precision    recall  f1-score   support\n",
      "\n",
      "           0       0.67      0.91      0.77        97\n",
      "           1       0.87      0.57      0.69       103\n",
      "\n",
      "    accuracy                           0.73       200\n",
      "   macro avg       0.77      0.74      0.73       200\n",
      "weighted avg       0.77      0.73      0.73       200\n",
      "\n",
      "Accuracy for Logistic Regression: 0.75\n",
      "Classification Report for Logistic Regression:\n",
      "               precision    recall  f1-score   support\n",
      "\n",
      "           0       0.70      0.86      0.77        97\n",
      "           1       0.83      0.65      0.73       103\n",
      "\n",
      "    accuracy                           0.75       200\n",
      "   macro avg       0.76      0.75      0.75       200\n",
      "weighted avg       0.76      0.75      0.75       200\n",
      "\n"
     ]
    }
   ],
   "source": [
    "import pandas as pd\n",
    "import re\n",
    "import nltk\n",
    "from nltk.corpus import stopwords\n",
    "from nltk.stem.porter import PorterStemmer\n",
    "from sklearn.model_selection import train_test_split, GridSearchCV\n",
    "from sklearn.feature_extraction.text import TfidfVectorizer\n",
    "from sklearn.ensemble import RandomForestClassifier\n",
    "from sklearn.linear_model import LogisticRegression\n",
    "from sklearn.metrics import accuracy_score, classification_report\n",
    "\n",
    "\n",
    "nltk.download('stopwords')\n",
    "\n",
    "\n",
    "data = pd.read_csv('Restaurant_Reviews.tsv', sep='\\t')\n",
    "\n",
    "\n",
    "corpus = []\n",
    "for i in range(len(data)):\n",
    "    review = re.sub(pattern='[^a-zA-Z]', repl=' ', string=data['Review'][i])\n",
    "    review = review.lower()\n",
    "    review_words = review.split()\n",
    "    review_words = [word for word in review_words if not word in set(stopwords.words('english'))]\n",
    "    ps = PorterStemmer()\n",
    "    review = [ps.stem(word) for word in review_words]\n",
    "    review = ' '.join(review)\n",
    "    corpus.append(review)\n",
    "\n",
    "\n",
    "X = corpus\n",
    "y = data.iloc[:, 1].values\n",
    "X_train, X_test, y_train, y_test = train_test_split(X, y, test_size=0.20, random_state=0)\n",
    "\n",
    "\n",
    "tfidf_vectorizer = TfidfVectorizer(max_features=1500)\n",
    "X_train = tfidf_vectorizer.fit_transform(X_train).toarray()\n",
    "X_test = tfidf_vectorizer.transform(X_test).toarray()\n",
    "\n",
    "\n",
    "param_grid_rf = {\n",
    "    'n_estimators': [100, 200, 300],\n",
    "    'max_depth': [None, 10, 20],\n",
    "    'min_samples_split': [2, 5, 10]\n",
    "}\n",
    "\n",
    "\n",
    "param_grid_lr = {\n",
    "    'C': [0.1, 1, 10]\n",
    "}\n",
    "\n",
    "rf_classifier = RandomForestClassifier(random_state=0)\n",
    "\n",
    "\n",
    "grid_search_rf = GridSearchCV(estimator=rf_classifier, param_grid=param_grid_rf, cv=5, n_jobs=-1)\n",
    "grid_search_rf.fit(X_train, y_train)\n",
    "\n",
    "\n",
    "best_params_rf = grid_search_rf.best_params_\n",
    "print(\"Best Hyperparameters for Random Forest:\", best_params_rf)\n",
    "\n",
    "\n",
    "lr_classifier = LogisticRegression(random_state=0)\n",
    "\n",
    "\n",
    "grid_search_lr = GridSearchCV(estimator=lr_classifier, param_grid=param_grid_lr, cv=5, n_jobs=-1)\n",
    "grid_search_lr.fit(X_train, y_train)\n",
    "\n",
    "\n",
    "best_params_lr = grid_search_lr.best_params_\n",
    "print(\"Best Hyperparameters for Logistic Regression:\", best_params_lr)\n",
    "\n",
    "\n",
    "best_rf_classifier = grid_search_rf.best_estimator_\n",
    "best_lr_classifier = grid_search_lr.best_estimator_\n",
    "\n",
    "y_pred_rf = best_rf_classifier.predict(X_test)\n",
    "y_pred_lr = best_lr_classifier.predict(X_test)\n",
    "\n",
    "\n",
    "accuracy_rf = accuracy_score(y_test, y_pred_rf)\n",
    "print(f'Accuracy for Random Forest: {accuracy_rf:.2f}')\n",
    "\n",
    "\n",
    "report_rf = classification_report(y_test, y_pred_rf)\n",
    "print(\"Classification Report for Random Forest:\\n\", report_rf)\n",
    "\n",
    "accuracy_lr = accuracy_score(y_test, y_pred_lr)\n",
    "print(f'Accuracy for Logistic Regression: {accuracy_lr:.2f}')\n",
    "\n",
    "report_lr = classification_report(y_test, y_pred_lr)\n",
    "print(\"Classification Report for Logistic Regression:\\n\", report_lr)\n"
   ]
  },
  {
   "cell_type": "code",
   "execution_count": 31,
   "id": "bd90d204",
   "metadata": {},
   "outputs": [
    {
     "data": {
      "image/png": "[encoded data removed]",
      "text/plain": [
       "<Figure size 576x432 with 2 Axes>"
      ]
     },
     "metadata": {
      "needs_background": "light"
     },
     "output_type": "display_data"
    },
    {
     "data": {
      "image/png": "[encoded data removed]",
      "text/plain": [
       "<Figure size 576x432 with 2 Axes>"
      ]
     },
     "metadata": {
      "needs_background": "light"
     },
     "output_type": "display_data"
    }
   ],
   "source": [
    "from sklearn.metrics import confusion_matrix\n",
    "import seaborn as sns\n",
    "import matplotlib.pyplot as plt\n",
    "\n",
    "# Confusion Matrix for Random Forest\n",
    "cm_rf = confusion_matrix(y_test, y_pred_rf)\n",
    "plt.figure(figsize=(8, 6))\n",
    "sns.heatmap(cm_rf, annot=True, fmt=\"d\", cmap=\"Blues\")\n",
    "plt.title(\"Confusion Matrix - Random Forest\")\n",
    "plt.xlabel(\"Predicted\")\n",
    "plt.ylabel(\"Actual\")\n",
    "plt.show()\n",
    "\n",
    "# Confusion Matrix for Logistic Regression\n",
    "cm_lr = confusion_matrix(y_test, y_pred_lr)\n",
    "plt.figure(figsize=(8, 6))\n",
    "sns.heatmap(cm_lr, annot=True, fmt=\"d\", cmap=\"Blues\")\n",
    "plt.title(\"Confusion Matrix - Logistic Regression\")\n",
    "plt.xlabel(\"Predicted\")\n",
    "plt.ylabel(\"Actual\")\n",
    "plt.show()\n",
    "\n"
   ]
  },
  {
   "cell_type": "code",
   "execution_count": null,
   "id": "22cb86e4",
   "metadata": {},
   "outputs": [],
   "source": [
    "\n"
   ]
  },
  {
   "cell_type": "code",
   "execution_count": 34,
   "id": "c699736a",
   "metadata": {},
   "outputs": [
    {
     "name": "stdout",
     "output_type": "stream",
     "text": [
      "Predicted Sentiment: Positive\n"
     ]
    }
   ],
   "source": [
    " \n",
    "def predict_sentiment(review, tfidf_vectorizer, best_rf_classifier, best_lr_classifier):\n",
    "    \n",
    "    review = re.sub(pattern='[^a-zA-Z]', repl=' ', string=review)\n",
    "    review = review.lower()\n",
    "    review_words = review.split()\n",
    "    review_words = [word for word in review_words if not word in set(stopwords.words('english'))]\n",
    "    ps = PorterStemmer()\n",
    "    review = [ps.stem(word) for word in review_words]\n",
    "    review = ' '.join(review)\n",
    "  \n",
    "    review_vectorized = tfidf_vectorizer.transform([review]).toarray()\n",
    "    \n",
    "    rf_prediction = best_rf_classifier.predict(review_vectorized)\n",
    "    \n",
    "    lr_prediction = best_lr_classifier.predict(review_vectorized)\n",
    "    \n",
    "    sentiment = \"Positive\" if (rf_prediction[0] == 1 and lr_prediction[0] == 1) else \"Negative\"\n",
    "    \n",
    "    return sentiment\n",
    "\n",
    "\n",
    "input_review = \"I loved the food at this restaurant, it was amazing!\"\n",
    "predicted_sentiment = predict_sentiment(input_review, tfidf_vectorizer, best_rf_classifier, best_lr_classifier)\n",
    "print(f\"Predicted Sentiment: {predicted_sentiment}\")\n"
   ]
  },
  {
   "cell_type": "code",
   "execution_count": null,
   "id": "68a52bb6",
   "metadata": {},
   "outputs": [],
   "source": []
  }
 ],
 "metadata": {
  "kernelspec": {
   "display_name": "Python 3",
   "language": "python",
   "name": "python3"
  },
  "language_info": {
   "codemirror_mode": {
    "name": "ipython",
    "version": 3
   },
   "file_extension": ".py",
   "mimetype": "text/x-python",
   "name": "python",
   "nbconvert_exporter": "python",
   "pygments_lexer": "ipython3",
   "version": "3.8.8"
  }
 },
 "nbformat": 4,
 "nbformat_minor": 5
}
